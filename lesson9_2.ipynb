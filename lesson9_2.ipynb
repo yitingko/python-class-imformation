{
 "cells": [
  {
   "cell_type": "code",
   "execution_count": 1,
   "metadata": {},
   "outputs": [
    {
     "data": {
      "text/plain": [
       "[]"
      ]
     },
     "execution_count": 1,
     "metadata": {},
     "output_type": "execute_result"
    }
   ],
   "source": [
    "#建立空的list\n",
    "weekdays = []\n",
    "weekdays"
   ]
  },
  {
   "cell_type": "code",
   "execution_count": 2,
   "metadata": {},
   "outputs": [
    {
     "data": {
      "text/plain": [
       "list"
      ]
     },
     "execution_count": 2,
     "metadata": {},
     "output_type": "execute_result"
    }
   ],
   "source": [
    "#使用初始化建立list\n",
    "weedays = list()\n",
    "weedays\n",
    "type(weekdays)"
   ]
  },
  {
   "cell_type": "code",
   "execution_count": 3,
   "metadata": {},
   "outputs": [
    {
     "data": {
      "text/plain": [
       "['星期一', '星期二', '星期三', '星期四', '星期五', '星期六', '星期日']"
      ]
     },
     "execution_count": 3,
     "metadata": {},
     "output_type": "execute_result"
    }
   ],
   "source": [
    "weekdays = []\n",
    "weekdays.append(\"星期一\")\n",
    "weekdays.append(\"星期二\")\n",
    "weekdays.append(\"星期三\")\n",
    "weekdays.append(\"星期四\")\n",
    "weekdays.append(\"星期五\")\n",
    "weekdays.append(\"星期六\")\n",
    "weekdays.append(\"星期日\")\n",
    "weekdays"
   ]
  },
  {
   "cell_type": "code",
   "execution_count": 4,
   "metadata": {},
   "outputs": [
    {
     "data": {
      "text/plain": [
       "False"
      ]
     },
     "execution_count": 4,
     "metadata": {},
     "output_type": "execute_result"
    }
   ],
   "source": [
    "3 in weekdays"
   ]
  },
  {
   "cell_type": "code",
   "execution_count": 5,
   "metadata": {},
   "outputs": [
    {
     "data": {
      "text/plain": [
       "True"
      ]
     },
     "execution_count": 5,
     "metadata": {},
     "output_type": "execute_result"
    }
   ],
   "source": [
    "'星期三' in weekdays"
   ]
  },
  {
   "cell_type": "code",
   "execution_count": 6,
   "metadata": {},
   "outputs": [
    {
     "data": {
      "text/plain": [
       "'星期日'"
      ]
     },
     "execution_count": 6,
     "metadata": {},
     "output_type": "execute_result"
    }
   ],
   "source": [
    "weekdays.pop()"
   ]
  },
  {
   "cell_type": "code",
   "execution_count": 7,
   "metadata": {},
   "outputs": [
    {
     "data": {
      "text/plain": [
       "[]"
      ]
     },
     "execution_count": 7,
     "metadata": {},
     "output_type": "execute_result"
    }
   ],
   "source": [
    "weekdays.clear()\n",
    "weekdays"
   ]
  },
  {
   "cell_type": "code",
   "execution_count": 8,
   "metadata": {},
   "outputs": [
    {
     "data": {
      "text/plain": [
       "['星期一', '星期二', '星期三', '星期四', '星期五', '星期六', '星期日']"
      ]
     },
     "execution_count": 8,
     "metadata": {},
     "output_type": "execute_result"
    }
   ],
   "source": [
    "weekdays = []\n",
    "weekdays.append(\"星期一\")\n",
    "weekdays.append(\"星期二\")\n",
    "weekdays.append(\"星期三\")\n",
    "weekdays.append(\"星期四\")\n",
    "weekdays.append(\"星期五\")\n",
    "weekdays.append(\"星期六\")\n",
    "weekdays.append(\"星期日\")\n",
    "weekdays"
   ]
  },
  {
   "cell_type": "code",
   "execution_count": 9,
   "metadata": {},
   "outputs": [
    {
     "data": {
      "text/plain": [
       "'星期日'"
      ]
     },
     "execution_count": 9,
     "metadata": {},
     "output_type": "execute_result"
    }
   ],
   "source": [
    "weekdays.pop()"
   ]
  },
  {
   "cell_type": "code",
   "execution_count": 13,
   "metadata": {},
   "outputs": [
    {
     "data": {
      "text/plain": [
       "['星期一', '星期二', '星期三', '星期四', '星期五', '星期六']"
      ]
     },
     "execution_count": 13,
     "metadata": {},
     "output_type": "execute_result"
    }
   ],
   "source": [
    "weekdays"
   ]
  },
  {
   "cell_type": "code",
   "execution_count": 14,
   "metadata": {},
   "outputs": [
    {
     "data": {
      "text/plain": [
       "[55, 87, 72, 75, 97]"
      ]
     },
     "execution_count": 14,
     "metadata": {},
     "output_type": "execute_result"
    }
   ],
   "source": [
    "#建立一個學生的5個分數\n",
    "import random\n",
    "stu = []\n",
    "for _ in range(5):    \n",
    "    score = random.randint(50,100)\n",
    "    stu.append(score)\n",
    "stu"
   ]
  },
  {
   "cell_type": "code",
   "execution_count": null,
   "metadata": {},
   "outputs": [],
   "source": [
    "#建立一個學生的5個分數\n",
    "import random\n",
    "stu = []\n",
    "for _ in range(5):    \n",
    "    score = random.randint(50,100)\n",
    "    stu.append(score)\n",
    "stu"
   ]
  },
  {
   "cell_type": "code",
   "execution_count": 21,
   "metadata": {},
   "outputs": [
    {
     "data": {
      "text/plain": [
       "[[65, 74, 53, 82, 52],\n",
       " [68, 95, 99, 97, 88],\n",
       " [95, 93, 57, 100, 77],\n",
       " [57, 71, 95, 81, 74],\n",
       " [58, 82, 90, 95, 77],\n",
       " [59, 96, 81, 81, 100],\n",
       " [86, 77, 87, 96, 94],\n",
       " [82, 92, 78, 53, 63],\n",
       " [79, 71, 89, 60, 73],\n",
       " [57, 95, 77, 77, 70],\n",
       " [54, 65, 88, 76, 99],\n",
       " [69, 85, 60, 98, 81],\n",
       " [77, 57, 99, 97, 85],\n",
       " [60, 59, 86, 79, 66],\n",
       " [87, 56, 95, 80, 92],\n",
       " [68, 88, 85, 62, 84],\n",
       " [63, 78, 50, 55, 50],\n",
       " [79, 53, 77, 69, 91],\n",
       " [57, 69, 94, 90, 73],\n",
       " [59, 85, 100, 59, 65],\n",
       " [80, 64, 65, 78, 86],\n",
       " [81, 87, 82, 60, 78],\n",
       " [98, 57, 64, 96, 77],\n",
       " [100, 61, 57, 55, 77],\n",
       " [54, 71, 64, 53, 70],\n",
       " [86, 82, 97, 63, 59],\n",
       " [81, 86, 84, 62, 52],\n",
       " [52, 67, 53, 76, 98],\n",
       " [55, 90, 55, 58, 95],\n",
       " [81, 74, 67, 68, 61],\n",
       " [76, 78, 51, 53, 57],\n",
       " [53, 73, 70, 74, 74],\n",
       " [59, 81, 81, 68, 82],\n",
       " [52, 93, 68, 67, 55],\n",
       " [76, 57, 98, 96, 74],\n",
       " [65, 82, 69, 90, 56],\n",
       " [58, 91, 67, 62, 55],\n",
       " [88, 54, 97, 52, 51],\n",
       " [52, 55, 97, 66, 92],\n",
       " [94, 76, 66, 61, 75],\n",
       " [63, 88, 78, 78, 93],\n",
       " [97, 84, 75, 69, 55],\n",
       " [93, 100, 94, 71, 50],\n",
       " [62, 100, 52, 59, 55],\n",
       " [82, 86, 91, 63, 68],\n",
       " [55, 91, 100, 53, 73],\n",
       " [80, 91, 76, 81, 81],\n",
       " [50, 100, 74, 56, 99],\n",
       " [69, 56, 65, 65, 90],\n",
       " [100, 99, 82, 65, 97]]"
      ]
     },
     "execution_count": 21,
     "metadata": {},
     "output_type": "execute_result"
    }
   ],
   "source": [
    "#建立一個學生的5個分數\n",
    "#建立50個學生\n",
    "students = []\n",
    "for _ in range(50):\n",
    "    stu=[]\n",
    "    for _ in range(5):    \n",
    "        score = random.randint(50,100)\n",
    "        stu.append(score)\n",
    "    students.append(stu)\n",
    "students"
   ]
  },
  {
   "cell_type": "code",
   "execution_count": 23,
   "metadata": {},
   "outputs": [
    {
     "data": {
      "text/plain": [
       "[[68, 92, 77, 54, 66],\n",
       " [84, 53, 75, 99, 95],\n",
       " [99, 95, 57, 56, 77],\n",
       " [56, 83, 62, 72, 65],\n",
       " [68, 75, 52, 79, 88],\n",
       " [55, 67, 59, 89, 71],\n",
       " [69, 86, 96, 75, 52],\n",
       " [73, 98, 89, 78, 94],\n",
       " [86, 68, 95, 70, 96],\n",
       " [73, 68, 62, 97, 76],\n",
       " [95, 74, 59, 50, 63],\n",
       " [72, 98, 91, 70, 87],\n",
       " [93, 73, 59, 90, 94],\n",
       " [65, 85, 96, 55, 88],\n",
       " [63, 75, 99, 62, 81],\n",
       " [76, 85, 56, 82, 80],\n",
       " [93, 95, 57, 86, 62],\n",
       " [91, 68, 91, 74, 95],\n",
       " [100, 58, 84, 74, 67],\n",
       " [54, 85, 88, 90, 80],\n",
       " [72, 72, 50, 56, 56],\n",
       " [85, 87, 63, 89, 98],\n",
       " [56, 57, 55, 66, 78],\n",
       " [82, 88, 78, 64, 95],\n",
       " [61, 69, 55, 91, 78],\n",
       " [90, 71, 84, 87, 79],\n",
       " [52, 69, 51, 99, 74],\n",
       " [81, 52, 84, 71, 64],\n",
       " [83, 78, 95, 89, 81],\n",
       " [54, 51, 50, 55, 79],\n",
       " [66, 55, 66, 90, 80],\n",
       " [73, 87, 99, 94, 87],\n",
       " [55, 80, 99, 97, 80],\n",
       " [80, 54, 98, 70, 80],\n",
       " [51, 77, 100, 51, 56],\n",
       " [51, 69, 79, 50, 63],\n",
       " [80, 98, 69, 66, 73],\n",
       " [58, 87, 70, 87, 83],\n",
       " [58, 88, 54, 77, 59],\n",
       " [56, 64, 55, 57, 91],\n",
       " [84, 83, 74, 62, 74],\n",
       " [62, 76, 79, 91, 52],\n",
       " [78, 94, 96, 52, 83],\n",
       " [93, 73, 89, 84, 78],\n",
       " [90, 79, 89, 74, 51],\n",
       " [87, 78, 73, 97, 76],\n",
       " [81, 61, 97, 89, 64],\n",
       " [52, 53, 73, 89, 99],\n",
       " [50, 64, 73, 58, 84],\n",
       " [53, 83, 84, 73, 85]]"
      ]
     },
     "execution_count": 23,
     "metadata": {},
     "output_type": "execute_result"
    }
   ],
   "source": [
    "import random\n",
    "def createStudent()->list[int]:\n",
    "    stu = []\n",
    "    for _ in range(5):\n",
    "        score = random.randint(50,100)\n",
    "        stu.append(score)\n",
    "    return stu\n",
    "\n",
    "classes = []\n",
    "for _ in range(50):\n",
    "    stu = createStudent()\n",
    "    classes.append(stu)\n",
    "classes"
   ]
  },
  {
   "cell_type": "code",
   "execution_count": 24,
   "metadata": {},
   "outputs": [
    {
     "data": {
      "text/plain": [
       "[[80, 90, 77, 74, 56],\n",
       " [54, 76, 99, 52, 86],\n",
       " [92, 65, 73, 79, 86],\n",
       " [57, 70, 70, 92, 68],\n",
       " [80, 96, 84, 87, 84],\n",
       " [87, 78, 90, 76, 84],\n",
       " [93, 61, 84, 50, 88],\n",
       " [99, 60, 70, 75, 80],\n",
       " [96, 77, 79, 95, 63],\n",
       " [91, 92, 77, 72, 73]]"
      ]
     },
     "execution_count": 24,
     "metadata": {},
     "output_type": "execute_result"
    }
   ],
   "source": [
    "import random\n",
    "def createStudent()->list[int]:\n",
    "    stu = []\n",
    "    for _ in range(5):\n",
    "        score = random.randint(50,100)\n",
    "        stu.append(score)\n",
    "    return stu\n",
    "\n",
    "def createClasses(numbers:int)->list[list]:\n",
    "    classes = []\n",
    "    for _ in range(numbers):\n",
    "        stu = createStudent()\n",
    "        classes.append(stu)\n",
    "    return classes\n",
    "\n",
    "createClasses(10)"
   ]
  },
  {
   "cell_type": "code",
   "execution_count": 26,
   "metadata": {},
   "outputs": [],
   "source": [
    "#存檔\n",
    "file = open('students.csv',mode='w',encoding='utf-8',newline='')\n",
    "file.close()"
   ]
  }
 ],
 "metadata": {
  "kernelspec": {
   "display_name": "Python 3",
   "language": "python",
   "name": "python3"
  },
  "language_info": {
   "codemirror_mode": {
    "name": "ipython",
    "version": 3
   },
   "file_extension": ".py",
   "mimetype": "text/x-python",
   "name": "python",
   "nbconvert_exporter": "python",
   "pygments_lexer": "ipython3",
   "version": "3.10.13"
  }
 },
 "nbformat": 4,
 "nbformat_minor": 2
}
