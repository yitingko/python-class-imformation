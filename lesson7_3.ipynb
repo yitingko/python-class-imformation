{
 "cells": [
  {
   "cell_type": "code",
   "execution_count": 15,
   "metadata": {},
   "outputs": [],
   "source": [
    "#物件導向\n",
    "class Student():\n",
    "    def __init__(self,na,ch,en,ma):#自訂的初始化\n",
    "        self.name = na\n",
    "        self.chinese = ch\n",
    "        self.english = en\n",
    "        self.math = ma\n",
    "    \n",
    "    def sum(self)->int: #實體方法\n",
    "        return self.chinese + self.english + self.math\n",
    "    "
   ]
  },
  {
   "cell_type": "code",
   "execution_count": 16,
   "metadata": {},
   "outputs": [
    {
     "name": "stdout",
     "output_type": "stream",
     "text": [
      "alice\n",
      "89\n",
      "92\n",
      "65\n",
      "246\n"
     ]
    }
   ],
   "source": [
    "stu1 = Student(\"alice\",89,92,65)\n",
    "type(stu1)\n",
    "print(stu1.name)\n",
    "print(stu1.chinese)\n",
    "print(stu1.english)\n",
    "print(stu1.math)\n",
    "print(stu1.sum())"
   ]
  },
  {
   "cell_type": "code",
   "execution_count": 17,
   "metadata": {},
   "outputs": [
    {
     "name": "stdout",
     "output_type": "stream",
     "text": [
      "Robert\n",
      "78\n",
      "90\n",
      "82\n",
      "250\n"
     ]
    }
   ],
   "source": [
    "stu2 = Student(\"Robert\",78,90,82)\n",
    "print(stu2.name)\n",
    "print(stu2.chinese)\n",
    "print(stu2.english)\n",
    "print(stu2.math)\n",
    "print(stu2.sum())"
   ]
  }
 ],
 "metadata": {
  "kernelspec": {
   "display_name": "Python 3",
   "language": "python",
   "name": "python3"
  },
  "language_info": {
   "codemirror_mode": {
    "name": "ipython",
    "version": 3
   },
   "file_extension": ".py",
   "mimetype": "text/x-python",
   "name": "python",
   "nbconvert_exporter": "python",
   "pygments_lexer": "ipython3",
   "version": "3.10.13"
  }
 },
 "nbformat": 4,
 "nbformat_minor": 2
}
