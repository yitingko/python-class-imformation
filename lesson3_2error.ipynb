age =int(input("請輸入age"))
