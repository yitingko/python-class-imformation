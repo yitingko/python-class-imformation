{
 "cells": [
  {
   "cell_type": "code",
   "execution_count": null,
   "metadata": {},
   "outputs": [],
   "source": [
    "#巢狀選擇\n",
    "#如果x不是負數，則傳回值為 x ** ( 1 / y ).\n",
    "#如果x是負數而且為偶數，則傳回值為\"虛數\"。\n",
    "#如果x是負數而且為奇數，則傳回值為-(-x) ** (1/y)\n",
    "\n",
    "import pyinputplus as pyip\n",
    "\n",
    " x= pyip.inputInt('請輸入一個數字:')\n",
    "\n",
    "if x <= 0:\n",
    "    if x % 2 = 0\n",
    "    print(\"虛數\")\n",
    "    else print (-(-x) ** (1/y))\n",
    "else print =('')"
   ]
  },
  {
   "cell_type": "code",
   "execution_count": 7,
   "metadata": {},
   "outputs": [
    {
     "name": "stdout",
     "output_type": "stream",
     "text": [
      "-441.0\n"
     ]
    }
   ],
   "source": [
    "#巢狀選擇\n",
    "#如果x不是負數，則傳回值為 x ** ( 4 / y ).\n",
    "#如果x是負數而且為偶數，則傳回值為\"虛數\"。\n",
    "#如果x是負數而且為奇數，則傳回值為-(-x) ** ( 4 / y )\n",
    "#老師答案\n",
    "\n",
    "x= -21\n",
    "y=2\n",
    "\n",
    "if x >= 0:\n",
    "    print(\"不是負數\")\n",
    "    root = x** (4/y)\n",
    "    #root為變數名稱，可改(Z)\n",
    "else:\n",
    "    if x % 2 == 0:\n",
    "        root=\"虛數\"\n",
    "    else:\n",
    "        root=-(-x) ** (4/y)\n",
    "\n",
    "print(root)"
   ]
  },
  {
   "cell_type": "code",
   "execution_count": 9,
   "metadata": {},
   "outputs": [
    {
     "name": "stdout",
     "output_type": "stream",
     "text": [
      "請輸入購買金額:"
     ]
    }
   ],
   "source": [
    "#輸入顧客購買金額，若金額在\n",
    "#100000元打8折\n",
    "#50000元打85折\n",
    "#30000元打9折\n",
    "#10000元打95折\n",
    "\n",
    "#請輸入購買金額:130000\n",
    "#實付金額是:104000.0元\n",
    "\n",
    "\n",
    "import pyinputplus as pyip\n",
    "price=pyip.inputInt(\"請輸入購買金額:\")\n",
    "\n",
    "if price >= 130000:\n",
    "    discontPrice = price *0.8\n",
    "elif price >= 50000:\n",
    "    discontPrice = price *0.85\n",
    "elif price >= 30000:\n",
    "    discontPrice = price *0.9\n",
    "elif price >= 10000:\n",
    "    discontPrice = price *0.95\n",
    "else :\n",
    "    discontPrice=price\n",
    "\n",
    "print ()"
   ]
  }
 ],
 "metadata": {
  "kernelspec": {
   "display_name": "Python 3",
   "language": "python",
   "name": "python3"
  },
  "language_info": {
   "codemirror_mode": {
    "name": "ipython",
    "version": 3
   },
   "file_extension": ".py",
   "mimetype": "text/x-python",
   "name": "python",
   "nbconvert_exporter": "python",
   "pygments_lexer": "ipython3",
   "version": "3.10.13"
  }
 },
 "nbformat": 4,
 "nbformat_minor": 2
}
