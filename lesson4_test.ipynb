{
 "cells": [
  {
   "cell_type": "code",
   "execution_count": null,
   "metadata": {},
   "outputs": [],
   "source": [
    "#巢狀選擇\n",
    "#如果x不是負數，則傳回值為 x ** ( 1 / y ).\n",
    "#如果x是負數而且為偶數，則傳回值為\"虛數\"。\n",
    "#如果x是負數而且為奇數，則傳回值為-(-x) ** (1/y)\n",
    "\n",
    "import pyinputplus as pyip\n",
    "\n",
    " x= pyip.inputInt('請輸入一個數字:')\n",
    "\n",
    "if x <= 0:\n",
    "    if x % 2 = 0\n",
    "    print(\"虛數\")\n",
    "    else print (-(-x) ** (1/y))\n",
    "else print =('')"
   ]
  },
  {
   "cell_type": "code",
   "execution_count": 7,
   "metadata": {},
   "outputs": [
    {
     "name": "stdout",
     "output_type": "stream",
     "text": [
      "-441.0\n"
     ]
    }
   ],
   "source": [
    "#巢狀選擇\n",
    "#如果x不是負數，則傳回值為 x ** ( 4 / y ).\n",
    "#如果x是負數而且為偶數，則傳回值為\"虛數\"。\n",
    "#如果x是負數而且為奇數，則傳回值為-(-x) ** ( 4 / y )\n",
    "#老師答案\n",
    "\n",
    "x= -21\n",
    "y=2\n",
    "\n",
    "if x >= 0:\n",
    "    print(\"不是負數\")\n",
    "    root = x** (4/y)\n",
    "    #root為變數名稱，可改(Z)\n",
    "else:\n",
    "    if x % 2 == 0:\n",
    "        root=\"虛數\"\n",
    "    else:\n",
    "        root=-(-x) ** (4/y)\n",
    "\n",
    "print(root)"
   ]
  }
 ],
 "metadata": {
  "kernelspec": {
   "display_name": "Python 3",
   "language": "python",
   "name": "python3"
  },
  "language_info": {
   "codemirror_mode": {
    "name": "ipython",
    "version": 3
   },
   "file_extension": ".py",
   "mimetype": "text/x-python",
   "name": "python",
   "nbconvert_exporter": "python",
   "pygments_lexer": "ipython3",
   "version": "3.10.13"
  }
 },
 "nbformat": 4,
 "nbformat_minor": 2
}
