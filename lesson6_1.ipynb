{
 "cells": [
  {
   "cell_type": "code",
   "execution_count": 5,
   "metadata": {},
   "outputs": [
    {
     "name": "stdout",
     "output_type": "stream",
     "text": [
      "==========猜數字遊戲===========\n",
      "76\n",
      "再大一點\n",
      "76\n",
      "賓果！猜對了，答案是:76\n",
      "遊戲結束\n",
      "您猜了2次\n"
     ]
    }
   ],
   "source": [
    "import random\n",
    "min = 1\n",
    "max = 100\n",
    "count =0 \n",
    "target = random.randint(min,max)\n",
    "print(\"==========猜數字遊戲===========\")\n",
    "while(True):\n",
    "    keyin = int(input(f\"猜數字的範圍{min}~{max}\"))\n",
    "    count += 1\n",
    "    print(target)\n",
    "    if(keyin >= min and keyin <=max):\n",
    "        if keyin == target:\n",
    "            print(f\"賓果！猜對了，答案是:{keyin}\")\n",
    "            break\n",
    "        elif keyin > target:\n",
    "            print(\"再小一點\")\n",
    "            max = keyin - 1\n",
    "            continue\n",
    "        elif keyin < target:\n",
    "            print(\"再大一點\")\n",
    "            min = keyin + 1\n",
    "            continue#因已經走巢狀判斷，可省略continue\n",
    "        print(f\"加油＠您已經猜了{count}次\")\n",
    "        continue \n",
    "    else:\n",
    "        print(\"請輸入提示範圍內的數字\")\n",
    "print(\"遊戲結束\")\n",
    "print(f\"您猜了{count}次\")\n"
   ]
  },
  {
   "cell_type": "code",
   "execution_count": null,
   "metadata": {},
   "outputs": [],
   "source": [
    "import random\n",
    "def playgame(max:int,min:int) ->None:\n",
    "count =0 \n",
    "target = random.randint(min,max)\n",
    "print(\"==========猜數字遊戲===========\")\n",
    "while(True):\n",
    "    keyin = int(input(f\"猜數字的範圍{min}~{max}\"))\n",
    "    count += 1\n",
    "    if(keyin >= min and keyin <=max):\n",
    "        if keyin == target:\n",
    "            print(f\"賓果！猜對了，答案是:{keyin}\")\n",
    "            break\n",
    "        elif keyin > target:\n",
    "            print(\"再小一點\")\n",
    "            max = keyin - 1\n",
    "            continue\n",
    "        elif keyin < target:\n",
    "            print(\"再大一點\")\n",
    "            min = keyin + 1\n",
    "        print(f\"加油＠您已經猜了{count}次\")\n",
    "        continue \n",
    "    else:\n",
    "        print(\"請輸入提示範圍內的數字\")\n",
    "print(\"遊戲結束\")\n",
    "print(f\"您猜了{count}次\")"
   ]
  },
  {
   "cell_type": "code",
   "execution_count": 3,
   "metadata": {},
   "outputs": [
    {
     "ename": "NameError",
     "evalue": "name 'playgame' is not defined",
     "output_type": "error",
     "traceback": [
      "\u001b[0;31m---------------------------------------------------------------------------\u001b[0m",
      "\u001b[0;31mNameError\u001b[0m                                 Traceback (most recent call last)",
      "\u001b[1;32m/workspaces/python-class-imformation/lesson6_1.ipynb 儲存格 3\u001b[0m line \u001b[0;36m2\n\u001b[1;32m      <a href='vscode-notebook-cell://codespaces%2Bfriendly-guacamole-7v9grqj974v63wgw/workspaces/python-class-imformation/lesson6_1.ipynb#W2sdnNjb2RlLXJlbW90ZQ%3D%3D?line=0'>1</a>\u001b[0m \u001b[39m#引數位置的呼叫\u001b[39;00m\n\u001b[0;32m----> <a href='vscode-notebook-cell://codespaces%2Bfriendly-guacamole-7v9grqj974v63wgw/workspaces/python-class-imformation/lesson6_1.ipynb#W2sdnNjb2RlLXJlbW90ZQ%3D%3D?line=1'>2</a>\u001b[0m playgame(\u001b[39m100\u001b[39m,\u001b[39m10\u001b[39m)\n",
      "\u001b[0;31mNameError\u001b[0m: name 'playgame' is not defined"
     ]
    }
   ],
   "source": [
    "#引數位置的呼叫\n",
    "playgame(100,10)"
   ]
  },
  {
   "cell_type": "code",
   "execution_count": null,
   "metadata": {},
   "outputs": [],
   "source": [
    "#引數名稱的呼叫，可以不依順序\n",
    "playgame(min=50,max=150)"
   ]
  }
 ],
 "metadata": {
  "kernelspec": {
   "display_name": "Python 3",
   "language": "python",
   "name": "python3"
  },
  "language_info": {
   "codemirror_mode": {
    "name": "ipython",
    "version": 3
   },
   "file_extension": ".py",
   "mimetype": "text/x-python",
   "name": "python",
   "nbconvert_exporter": "python",
   "pygments_lexer": "ipython3",
   "version": "3.10.13"
  }
 },
 "nbformat": 4,
 "nbformat_minor": 2
}
