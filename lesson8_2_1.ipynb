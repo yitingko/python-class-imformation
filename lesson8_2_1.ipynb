{
 "cells": [
  {
   "cell_type": "code",
   "execution_count": 1,
   "metadata": {},
   "outputs": [
    {
     "name": "stdout",
     "output_type": "stream",
     "text": [
      "<!DOCTYPE html><html lang=\"en-GB\" dir=\"ltr\"><head><title>Your browser is deprecated, please upgrade.</title><meta name=\"viewport\" content=\"width=device-width, initial-scale=1.0, maximum-scale=1.0, user-scalable=no\"/><link href=\"https://fonts.googleapis.com/css?family=Roboto:500\" rel=\"stylesheet\" nonce=\"JHowXCP10y-CyKN0Oe63rQ\"/><link rel=\"icon\" href=\"https://music.youtube.com/favicon.ico\" sizes=\"16x16\" type=\"image/x-icon\"><link rel=\"icon\" href=\"https://music.youtube.com/img/favicon_32.png\" sizes=\"32x32\" type=\"image/png\"><link rel=\"icon\" href=\"https://music.youtube.com/img/favicon_48.png\" sizes=\"48x48\" type=\"image/png\"><link rel=\"icon\" href=\"https://music.youtube.com/img/favicon_96.png\" sizes=\"96x96\" type=\"image/png\"><link rel=\"icon\" href=\"https://music.youtube.com/img/favicon_144.png\" sizes=\"144x144\" type=\"image/png\"><style nonce=\"JHowXCP10y-CyKN0Oe63rQ\">body {display: flex; height: 100vh; width: 100vw; align-items: center; justify-content: center; margin: 0; background-color: #131313; overflow: hidden; font-family: 'Roboto', arial, sans-serif}.content {display: flex; flex-direction: column; align-items: center;}.logo {width: 160px;}.message {max-width: 400px; box-sizing: border-box; padding: 32px 24px; font-size: 18px; line-height: 22px; font-weight: 500; text-align: center; color: rgba(255, 255, 255, 0.8);}.cta-wrapper {display: flex; justify-content: center;}.cta {display: flex; align-items: center; justify-content: center; background-color: #fff; font-size: 14px; font-weight: 500; text-decoration: none; text-transform: uppercase; color: #131313; height: 36px; min-width: 88px; border-radius: 2px; padding: 0 24px;}</style></head><body><div class=\"content\"><img class=\"logo\" src=\"//music.youtube.com/img/on_platform_logo_dark.svg\" alt=\"\"><div class=\"message\">Sorry, YouTube Music is not optimised for your browser. Check for updates or try Google Chrome.</div><div class=\"cta-wrapper\"><a class=\"cta\" href=\"http://www.google.com/chrome/index.html\">Get Chrome</a></div></div></body></html>\n"
     ]
    }
   ],
   "source": [
    "import requests\n",
    "\n",
    "response = requests.get('https://music.youtube.com/')\n",
    "print(response.text)"
   ]
  }
 ],
 "metadata": {
  "kernelspec": {
   "display_name": "Python 3",
   "language": "python",
   "name": "python3"
  },
  "language_info": {
   "codemirror_mode": {
    "name": "ipython",
    "version": 3
   },
   "file_extension": ".py",
   "mimetype": "text/x-python",
   "name": "python",
   "nbconvert_exporter": "python",
   "pygments_lexer": "ipython3",
   "version": "3.10.13"
  }
 },
 "nbformat": 4,
 "nbformat_minor": 2
}
