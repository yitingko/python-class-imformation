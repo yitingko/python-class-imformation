{
 "cells": [
  {
   "cell_type": "code",
   "execution_count": null,
   "metadata": {},
   "outputs": [],
   "source": [
    "#不明確知道執行的次數 while bool\n",
    "#需注意不要變成無限迴圈（要有false)"
   ]
  },
  {
   "cell_type": "code",
   "execution_count": null,
   "metadata": {},
   "outputs": [],
   "source": [
    "n = 1\n",
    "while n<=10:\n",
    "    print(n)\n",
    "    n += 1"
   ]
  },
  {
   "cell_type": "code",
   "execution_count": null,
   "metadata": {},
   "outputs": [],
   "source": [
    "import random\n",
    "n = 1\n",
    "while n<=100:\n",
    "    print(n)\n",
    "    n +=random.randint(1,10)"
   ]
  },
  {
   "cell_type": "code",
   "execution_count": 5,
   "metadata": {},
   "outputs": [
    {
     "name": "stdout",
     "output_type": "stream",
     "text": [
      "9\n",
      "1\n",
      "8\n",
      "應用程式結束\n"
     ]
    }
   ],
   "source": [
    "#奇數輸出平方\n",
    "#偶數輸出原來的值\n",
    "#'q'離開\n",
    "\n",
    "while True:\n",
    "    value = input(\"請輸入整數，輸入（q）離開：\")\n",
    "    if value ==\"q\":\n",
    "        break\n",
    "    value = int(value)\n",
    "    if value%2 == 1:\n",
    "        print(value ** 2)\n",
    "    else:\n",
    "        print(value)\n",
    "print(\"應用程式結束\")"
   ]
  },
  {
   "cell_type": "code",
   "execution_count": 1,
   "metadata": {},
   "outputs": [
    {
     "name": "stdout",
     "output_type": "stream",
     "text": [
      "應用程式結束\n",
      "6\n"
     ]
    }
   ],
   "source": [
    "#請設計一個程式，讓使用者輸入數值，只有加總正偶數值，不加總正奇數值，如果輸入負數，結束程式．\n",
    "\n",
    "total = 0\n",
    "while(True):\n",
    "   value = int(input(\"請輸入數值\"))\n",
    "   if value < 0:\n",
    "      break\n",
    "   elif value%2 == 1:\n",
    "      continue\n",
    "      #不作反應繼續往下\n",
    "   else:\n",
    "      total += value\n",
    "      \n",
    "print(\"應用程式結束\")\n",
    "print(total)"
   ]
  },
  {
   "cell_type": "code",
   "execution_count": null,
   "metadata": {},
   "outputs": [],
   "source": [
    "#請設計一個程式，讓使用者輸入數值，只有加總正偶數值，不加總正奇數值，如果輸入負數，結束程式．\n",
    "#進階：顯示總共執行次數\n",
    "\n",
    "total = 0\n",
    "num = 0\n",
    "while(True):\n",
    "   value = int(input(f\"請輸入第{num+1}數值:\"))\n",
    "   if value < 0:\n",
    "      break\n",
    "      print(\"break之後\")\n",
    "   elif value%2 == 1:\n",
    "      num += 1\n",
    "      continue\n",
    "      print(\"continue之後\")\n",
    "   else:\n",
    "      num += 1\n",
    "      total += value\n",
    "      \n",
    "print(\"應用程式結束\")\n",
    "print(f\"總共執行{num}\")\n",
    "print(total)"
   ]
  }
 ],
 "metadata": {
  "kernelspec": {
   "display_name": "Python 3",
   "language": "python",
   "name": "python3"
  },
  "language_info": {
   "codemirror_mode": {
    "name": "ipython",
    "version": 3
   },
   "file_extension": ".py",
   "mimetype": "text/x-python",
   "name": "python",
   "nbconvert_exporter": "python",
   "pygments_lexer": "ipython3",
   "version": "3.10.13"
  }
 },
 "nbformat": 4,
 "nbformat_minor": 2
}
