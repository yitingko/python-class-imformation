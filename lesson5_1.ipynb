{
 "cells": [
  {
   "cell_type": "code",
   "execution_count": null,
   "metadata": {},
   "outputs": [],
   "source": [
    "#python迴圈  \n",
    "#城市區塊 重複執行 “明確知道執行的次數” for in\n",
    "#for 自訂的變數 in sequence \n",
    "\n",
    "#1加到100   \n",
    "n=0\n",
    "for i in range(1,101):\n",
    "    n += i\n",
    "display(n)"
   ]
  },
  {
   "cell_type": "code",
   "execution_count": null,
   "metadata": {},
   "outputs": [],
   "source": [
    "print(1,2,3,5,6,7,'a','b','c')\n",
    "print(1,2,3,5,6,7,'a','b','c',sep='-')\n",
    "print(1,2,3,5,6,7,'a','b','c',sep='-',end='?\\n')\n",
    "print(1,2,3,5,6,7,'a','b','c',end='?\\n',sep='-')"
   ]
  },
  {
   "cell_type": "code",
   "execution_count": null,
   "metadata": {},
   "outputs": [],
   "source": [
    "for i in range(1,10):\n",
    "    print(f'i={i}')\n",
    "    print(f'j=',end=' ')\n",
    "    for j in range(1,10):\n",
    "        print(f'{j}',end=' ')\n",
    "    print(\"\\n==============\")"
   ]
  },
  {
   "cell_type": "code",
   "execution_count": 1,
   "metadata": {},
   "outputs": [
    {
     "name": "stdout",
     "output_type": "stream",
     "text": [
      "(i)*(j)=1 (i)*(j)=2 (i)*(j)=3 (i)*(j)=4 (i)*(j)=5 (i)*(j)=6 (i)*(j)=7 (i)*(j)=8 (i)*(j)=9 \n",
      "(i)*(j)=2 (i)*(j)=4 (i)*(j)=6 (i)*(j)=8 (i)*(j)=10 (i)*(j)=12 (i)*(j)=14 (i)*(j)=16 (i)*(j)=18 \n",
      "(i)*(j)=3 (i)*(j)=6 (i)*(j)=9 (i)*(j)=12 (i)*(j)=15 (i)*(j)=18 (i)*(j)=21 (i)*(j)=24 (i)*(j)=27 \n",
      "(i)*(j)=4 (i)*(j)=8 (i)*(j)=12 (i)*(j)=16 (i)*(j)=20 (i)*(j)=24 (i)*(j)=28 (i)*(j)=32 (i)*(j)=36 \n",
      "(i)*(j)=5 (i)*(j)=10 (i)*(j)=15 (i)*(j)=20 (i)*(j)=25 (i)*(j)=30 (i)*(j)=35 (i)*(j)=40 (i)*(j)=45 \n",
      "(i)*(j)=6 (i)*(j)=12 (i)*(j)=18 (i)*(j)=24 (i)*(j)=30 (i)*(j)=36 (i)*(j)=42 (i)*(j)=48 (i)*(j)=54 \n",
      "(i)*(j)=7 (i)*(j)=14 (i)*(j)=21 (i)*(j)=28 (i)*(j)=35 (i)*(j)=42 (i)*(j)=49 (i)*(j)=56 (i)*(j)=63 \n",
      "(i)*(j)=8 (i)*(j)=16 (i)*(j)=24 (i)*(j)=32 (i)*(j)=40 (i)*(j)=48 (i)*(j)=56 (i)*(j)=64 (i)*(j)=72 \n",
      "(i)*(j)=9 (i)*(j)=18 (i)*(j)=27 (i)*(j)=36 (i)*(j)=45 (i)*(j)=54 (i)*(j)=63 (i)*(j)=72 (i)*(j)=81 \n"
     ]
    }
   ],
   "source": [
    "for i in range(1,10):\n",
    "    for j in range(1,10):\n",
    "        print(f'(i)*(j)={i*j}',end=' ')\n",
    "    print()"
   ]
  }
 ],
 "metadata": {
  "kernelspec": {
   "display_name": "Python 3",
   "language": "python",
   "name": "python3"
  },
  "language_info": {
   "codemirror_mode": {
    "name": "ipython",
    "version": 3
   },
   "file_extension": ".py",
   "mimetype": "text/x-python",
   "name": "python",
   "nbconvert_exporter": "python",
   "pygments_lexer": "ipython3",
   "version": "3.10.13"
  }
 },
 "nbformat": 4,
 "nbformat_minor": 2
}
