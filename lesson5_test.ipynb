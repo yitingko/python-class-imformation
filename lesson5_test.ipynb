{
 "cells": [
  {
   "cell_type": "code",
   "execution_count": null,
   "metadata": {},
   "outputs": [],
   "source": [
    "#作業2\n",
    "sbp = int(input(\"請輸入收縮壓:\"))\n",
    "dbp = int(input(\"請輸入舒張壓:\"))\n",
    "suggestion =  \"\""
   ]
  }
 ],
 "metadata": {
  "language_info": {
   "name": "python"
  }
 },
 "nbformat": 4,
 "nbformat_minor": 2
}
