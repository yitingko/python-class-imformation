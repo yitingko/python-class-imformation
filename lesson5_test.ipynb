{
 "cells": [
  {
   "cell_type": "code",
   "execution_count": 8,
   "metadata": {},
   "outputs": [
    {
     "ename": "IndentationError",
     "evalue": "unexpected indent (4137477139.py, line 7)",
     "output_type": "error",
     "traceback": [
      "\u001b[0;36m  Cell \u001b[0;32mIn[8], line 7\u001b[0;36m\u001b[0m\n\u001b[0;31m    elif sbp >= 120 and sbp <= 129 :\u001b[0m\n\u001b[0m    ^\u001b[0m\n\u001b[0;31mIndentationError\u001b[0m\u001b[0;31m:\u001b[0m unexpected indent\n"
     ]
    }
   ],
   "source": [
    "#作業2\n",
    "sbp = int(input(\"請輸入收縮壓:\"))\n",
    "dbp = int(input(\"請輸入舒張壓:\"))\n",
    "suggestion =  \"\"\n",
    "print(sbp,dbp)\n",
    "\n",
    "  elif sbp >= 120 and sbp <= 129 :\n",
    "    suggestion = \"血壓升高\"\n",
    "    else :\n",
    "    suggestion = \"單純收縮期高血壓\"\n",
    "elif (89 >= dbp >= 80) or (139>=sbp>=130)\n",
    "suggestion = \"高血壓一期\"\n",
    "elif (sbp >=140) or (dbp>=90):\n",
    "suggestion = \"高血壓二期\""
   ]
  },
  {
   "cell_type": "code",
   "execution_count": 20,
   "metadata": {},
   "outputs": [
    {
     "name": "stdout",
     "output_type": "stream",
     "text": [
      "133 65\n",
      "單純收縮期高血壓\n"
     ]
    }
   ],
   "source": [
    "sbp = int(input(\"請輸入收縮壓:\"))\n",
    "dbp = int(input(\"請輸入舒張壓:\"))\n",
    "\n",
    "if (dbp <80)and(sbp<120) :\n",
    "    suggestion = \"正常\"\n",
    "elif (129>=sbp>=120) and (dbp<80):\n",
    "    suggestion = \"血壓升高\"\n",
    "elif (sbp>=130) and (dbp<80):\n",
    "    suggestion = \"單純收縮期高血壓\"\n",
    "elif (139>=sbp>=130) or (80<=dbp<=89):\n",
    "    suggestion = \"高血壓一期\"\n",
    "elif (sbp >=140) or (dbp>=90):\n",
    "    suggestion = \"高血壓二期\"\n",
    "\n",
    "print(sbp,dbp)\n",
    "print(suggestion)"
   ]
  }
 ],
 "metadata": {
  "kernelspec": {
   "display_name": "Python 3",
   "language": "python",
   "name": "python3"
  },
  "language_info": {
   "codemirror_mode": {
    "name": "ipython",
    "version": 3
   },
   "file_extension": ".py",
   "mimetype": "text/x-python",
   "name": "python",
   "nbconvert_exporter": "python",
   "pygments_lexer": "ipython3",
   "version": "3.10.13"
  }
 },
 "nbformat": 4,
 "nbformat_minor": 2
}
